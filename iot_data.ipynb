{
 "cells": [
  {
   "cell_type": "code",
   "execution_count": 10,
   "id": "1e9faed5",
   "metadata": {},
   "outputs": [
    {
     "name": "stdout",
     "output_type": "stream",
     "text": [
      "                   timestamp                             gps_location  \\\n",
      "0 2025-05-08 03:43:27.133426    -78.09394401638195, 63.28107611766643   \n",
      "1 2025-05-08 13:19:27.133426  -17.217051059177948, -39.00372428909199   \n",
      "2 2025-05-07 22:54:27.133426    61.36115964804148, 134.89488298652168   \n",
      "3 2025-05-08 20:42:27.133426     50.15818897633258, 51.88215119277865   \n",
      "4 2025-05-08 19:48:27.133426   -71.20302937017846, -9.843983092029077   \n",
      "\n",
      "  rfid_tag  temperature  \n",
      "0   TAG565    27.581705  \n",
      "1   TAG527    13.373114  \n",
      "2   TAG784    27.000009  \n",
      "3   TAG723    15.096070  \n",
      "4   TAG382    21.706048  \n"
     ]
    }
   ],
   "source": [
    "import pandas as pd\n",
    "import numpy as np\n",
    "from datetime import datetime, timedelta\n",
    "\n",
    "# Number of records to generate\n",
    "num_records = 100  # Adjust this number as needed\n",
    "\n",
    "# Example for Smart Logistics Tracking\n",
    "data = []\n",
    "\n",
    "for _ in range(num_records):\n",
    "    record = {\n",
    "        \"timestamp\": datetime.now() - timedelta(minutes=np.random.randint(0, 1440)),  # Random timestamp for the last 24 hours\n",
    "        \"gps_location\": f\"{np.random.uniform(-90, 90)}, {np.random.uniform(-180, 180)}\",  # Random GPS coordinates\n",
    "        \"rfid_tag\": f\"TAG{np.random.randint(100, 999)}\",  # Random RFID tag\n",
    "        \"temperature\": np.random.uniform(10.0, 30.0)  # Temperature in Celsius\n",
    "    }\n",
    "    data.append(record)\n",
    "\n",
    "# Convert to DataFrame\n",
    "df = pd.DataFrame(data)\n",
    "\n",
    "# Save dataset to CSV\n",
    "df.to_csv(\"iot_data.csv\", index=False)\n",
    "\n",
    "# Display first few rows\n",
    "print(df.head())\n"
   ]
  },
  {
   "cell_type": "code",
   "execution_count": null,
   "id": "274833af",
   "metadata": {},
   "outputs": [],
   "source": []
  }
 ],
 "metadata": {
  "kernelspec": {
   "display_name": "Python 3",
   "language": "python",
   "name": "python3"
  },
  "language_info": {
   "codemirror_mode": {
    "name": "ipython",
    "version": 3
   },
   "file_extension": ".py",
   "mimetype": "text/x-python",
   "name": "python",
   "nbconvert_exporter": "python",
   "pygments_lexer": "ipython3",
   "version": "3.12.2"
  }
 },
 "nbformat": 4,
 "nbformat_minor": 5
}
